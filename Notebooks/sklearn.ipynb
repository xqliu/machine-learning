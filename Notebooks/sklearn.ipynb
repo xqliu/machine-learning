{
 "cells": [
  {
   "cell_type": "markdown",
   "metadata": {},
   "source": [
    "# sklearn使用入门"
   ]
  },
  {
   "cell_type": "code",
   "execution_count": null,
   "metadata": {},
   "outputs": [],
   "source": [
    "%matplotlib inline"
   ]
  },
  {
   "cell_type": "code",
   "execution_count": null,
   "metadata": {
    "collapsed": false
   },
   "outputs": [
    {
     "name": "stdout",
     "output_type": "stream",
     "text": [
      "[1]\n"
     ]
    }
   ],
   "source": [
    "# 朴素贝叶斯\n",
    "import numpy as np\n",
    "from sklearn.naive_bayes import GaussianNB\n",
    "X = np.array([[-1,-1],[-2,-1],[-3,-2],[1,1,],[2,1],[3,2]])\n",
    "Y = np.array([1,1,1,2,2,2,])\n",
    "clf = GaussianNB()\n",
    "clf.fit(X,Y)\n",
    "print(\"ABC\")\n",
    "print(clf.predict([[-0.8,-1]]))"
   ]
  },
  {
   "cell_type": "markdown",
   "metadata": {},
   "source": [
    "## 数据类型\n",
    "* 数字数据，与时间无关\n",
    "* 分类数据\n",
    "  * 可能使用数字表示分类，这些数字没有数学上的含义\n",
    "  * 分类可能有ranking\n",
    "  * 分类数据转换方法\n",
    "    * 对于有序数据，赋值成整数是比较合理的选择\n",
    "    * 可以使用0、1来表示二分类特征\n",
    "* 时间序列数据\n",
    "  * 一段时间内收集的数据信息，数据信息与实践相关\n",
    "* 文本数据\n"
   ]
  },
  {
   "cell_type": "code",
   "execution_count": null,
   "metadata": {},
   "outputs": [],
   "source": [
    "from pylab import *\n",
    "figure()\n",
    "x = linspace(0, 5, 10)\n",
    "y = x ** 2\n",
    "plot(x, y, 'r')\n",
    "xlabel('x')\n",
    "ylabel('y')\n",
    "title('title')\n",
    "show()"
   ]
  }
 ],
 "metadata": {
  "kernelspec": {
   "display_name": "Python 2",
   "language": "python",
   "name": "python2"
  },
  "language_info": {
   "codemirror_mode": {
    "name": "ipython",
    "version": 2.0
   },
   "file_extension": ".py",
   "mimetype": "text/x-python",
   "name": "python",
   "nbconvert_exporter": "python",
   "pygments_lexer": "ipython2",
   "version": "2.7.13"
  }
 },
 "nbformat": 4,
 "nbformat_minor": 0
}